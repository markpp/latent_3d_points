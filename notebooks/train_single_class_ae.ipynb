{
 "cells": [
  {
   "cell_type": "markdown",
   "metadata": {},
   "source": [
    "## This notebook will help you train a vanilla Point-Cloud AE with the basic architecture we used in our paper.\n",
    "    (it assumes latent_3d_points is in the PYTHONPATH and the structural losses have been compiled)"
   ]
  },
  {
   "cell_type": "code",
   "execution_count": 1,
   "metadata": {},
   "outputs": [
    {
     "name": "stderr",
     "output_type": "stream",
     "text": [
      "/home/dmri/.local/lib/python3.5/site-packages/h5py/__init__.py:36: FutureWarning: Conversion of the second argument of issubdtype from `float` to `np.floating` is deprecated. In future, it will be treated as `np.float64 == np.dtype(float).type`.\n",
      "  from ._conv import register_converters as _register_converters\n"
     ]
    },
    {
     "name": "stdout",
     "output_type": "stream",
     "text": [
      "/home/dmri/github/latent_3d_points/notebooks\n",
      "External Losses (Chamfer-EMD) were not loaded.\n",
      "/home/dmri/github/latent_3d_points/notebooks\n"
     ]
    }
   ],
   "source": [
    "import os.path as osp\n",
    "\n",
    "from latent_3d_points.src.ae_templates import mlp_architecture_ala_iclr_18, default_train_params\n",
    "from latent_3d_points.src.autoencoder import Configuration as Conf\n",
    "from latent_3d_points.src.point_net_ae import PointNetAutoEncoder\n",
    "\n",
    "from latent_3d_points.src.in_out import snc_category_to_synth_id, create_dir, PointCloudDataSet, \\\n",
    "                                        load_all_point_clouds_under_folder\n",
    "\n",
    "from latent_3d_points.src.tf_utils import reset_tf_graph\n",
    "from latent_3d_points.src.general_utils import plot_3d_point_cloud"
   ]
  },
  {
   "cell_type": "code",
   "execution_count": 2,
   "metadata": {},
   "outputs": [],
   "source": [
    "%load_ext autoreload\n",
    "%autoreload 2\n",
    "%matplotlib inline"
   ]
  },
  {
   "cell_type": "markdown",
   "metadata": {},
   "source": [
    "Define Basic Parameters"
   ]
  },
  {
   "cell_type": "code",
   "execution_count": 3,
   "metadata": {},
   "outputs": [],
   "source": [
    "top_out_dir = '../data/'          # Use to save Neural-Net check-points etc.\n",
    "top_in_dir = '../data/shape_net_core_uniform_samples_2048/' # Top-dir of where point-clouds are stored.\n",
    "\n",
    "experiment_name = 'single_class_ae'\n",
    "n_pc_points = 2048                # Number of points per model.\n",
    "bneck_size = 128                  # Bottleneck-AE size\n",
    "ae_loss = 'chamfer'                   # Loss to optimize: 'emd' or 'chamfer'\n",
    "#class_name = raw_input('Give me the class name (e.g. \"chair\"): ').lower()\n",
    "class_name = \"chair\""
   ]
  },
  {
   "cell_type": "markdown",
   "metadata": {},
   "source": [
    "Load Point-Clouds"
   ]
  },
  {
   "cell_type": "code",
   "execution_count": 4,
   "metadata": {},
   "outputs": [
    {
     "name": "stdout",
     "output_type": "stream",
     "text": [
      "6778 pclouds were loaded. They belong in 1 shape-classes.\n"
     ]
    }
   ],
   "source": [
    "syn_id = snc_category_to_synth_id()[class_name]\n",
    "class_dir = osp.join(top_in_dir , syn_id)\n",
    "all_pc_data = load_all_point_clouds_under_folder(class_dir, n_threads=8, file_ending='.ply', verbose=True)"
   ]
  },
  {
   "cell_type": "code",
   "execution_count": 6,
   "metadata": {},
   "outputs": [],
   "source": [
    "feed_pc, feed_model_names, _ = all_pc_data.next_batch(10)\n"
   ]
  },
  {
   "cell_type": "code",
   "execution_count": 7,
   "metadata": {},
   "outputs": [
    {
     "data": {
      "text/plain": [
       "(10, 2048, 3)"
      ]
     },
     "execution_count": 7,
     "metadata": {},
     "output_type": "execute_result"
    }
   ],
   "source": [
    "feed_pc.shape"
   ]
  },
  {
   "cell_type": "code",
   "execution_count": 8,
   "metadata": {},
   "outputs": [
    {
     "data": {
      "text/plain": [
       "array(['03001627_5ecaad1f7575b3918ce66f12ba927a2b',\n",
       "       '03001627_5ce845f80b1d407282dde982679cd879',\n",
       "       '03001627_f1167a0c4bfc1f3fcf004563556ddb36',\n",
       "       '03001627_f9cdefd31b167f95e8f8c11a24c52ebb',\n",
       "       '03001627_c16a1a47bf34a84d157e7edaf1e3e602',\n",
       "       '03001627_eaf231f17fccb96d81dff5c2e57ad46e',\n",
       "       '03001627_965f9b75de94d03aff74317afae0a323',\n",
       "       '03001627_2aa1d5cc784b0b65f51f77a6d7299806',\n",
       "       '03001627_2159af8011e13b81713decb1a0563b12',\n",
       "       '03001627_ef9f4de6ad345818b25f0e6fce03dcef'], dtype=object)"
      ]
     },
     "execution_count": 8,
     "metadata": {},
     "output_type": "execute_result"
    }
   ],
   "source": [
    "feed_model_names"
   ]
  },
  {
   "cell_type": "markdown",
   "metadata": {},
   "source": [
    "Load default training parameters (some of which are listed beloq). For more details please print the configuration object.\n",
    "\n",
    "    'batch_size': 50   \n",
    "    \n",
    "    'denoising': False     (# by default AE is not denoising)\n",
    "\n",
    "    'learning_rate': 0.0005\n",
    "\n",
    "    'z_rotate': False      (# randomly rotate models of each batch)\n",
    "    \n",
    "    'loss_display_step': 1 (# display loss at end of these many epochs)\n",
    "    'saver_step': 10       (# over how many epochs to save neural-network)"
   ]
  },
  {
   "cell_type": "code",
   "execution_count": 8,
   "metadata": {},
   "outputs": [],
   "source": [
    "train_params = default_train_params()"
   ]
  },
  {
   "cell_type": "code",
   "execution_count": 9,
   "metadata": {},
   "outputs": [],
   "source": [
    "encoder, decoder, enc_args, dec_args = mlp_architecture_ala_iclr_18(n_pc_points, bneck_size)\n",
    "train_dir = create_dir(osp.join(top_out_dir, experiment_name))"
   ]
  },
  {
   "cell_type": "code",
   "execution_count": 12,
   "metadata": {},
   "outputs": [
    {
     "name": "stdout",
     "output_type": "stream",
     "text": [
      "not saving\n"
     ]
    }
   ],
   "source": [
    "conf = Conf(n_input = [n_pc_points, 3],\n",
    "            loss = ae_loss,\n",
    "            training_epochs = train_params['training_epochs'],\n",
    "            batch_size = train_params['batch_size'],\n",
    "            denoising = train_params['denoising'],\n",
    "            learning_rate = train_params['learning_rate'],\n",
    "            train_dir = train_dir,\n",
    "            loss_display_step = train_params['loss_display_step'],\n",
    "            saver_step = train_params['saver_step'],\n",
    "            z_rotate = train_params['z_rotate'],\n",
    "            encoder = encoder,\n",
    "            decoder = decoder,\n",
    "            encoder_args = enc_args,\n",
    "            decoder_args = dec_args\n",
    "           )\n",
    "conf.experiment_name = experiment_name\n",
    "conf.held_out_step = 5   # How often to evaluate/print out loss on \n",
    "                         # held_out data (if they are provided in ae.train() ).\n",
    "conf.save(osp.join(train_dir, 'configuration'))"
   ]
  },
  {
   "cell_type": "markdown",
   "metadata": {},
   "source": [
    "If you ran the above lines, you can reload a saved model like this:"
   ]
  },
  {
   "cell_type": "code",
   "execution_count": 13,
   "metadata": {},
   "outputs": [],
   "source": [
    "load_pre_trained_ae = False\n",
    "restore_epoch = 500\n",
    "if load_pre_trained_ae:\n",
    "    conf = Conf.load(train_dir + '/configuration')\n",
    "    reset_tf_graph()\n",
    "    ae = PointNetAutoEncoder(conf.experiment_name, conf)\n",
    "    ae.restore_model(conf.train_dir, epoch=restore_epoch)"
   ]
  },
  {
   "cell_type": "markdown",
   "metadata": {},
   "source": [
    "Build AE Model."
   ]
  },
  {
   "cell_type": "code",
   "execution_count": 21,
   "metadata": {},
   "outputs": [
    {
     "name": "stdout",
     "output_type": "stream",
     "text": [
      "Building Encoder\n",
      "encoder_conv_layer_0 conv params =  256\n",
      "bnorm params =  128\n",
      "Tensor(\"single_class_ae_2/Relu:0\", shape=(?, 2048, 64), dtype=float32)\n",
      "output size: 131072 \n",
      "\n",
      "encoder_conv_layer_1 conv params =  8320\n",
      "bnorm params =  256\n",
      "Tensor(\"single_class_ae_2/Relu_1:0\", shape=(?, 2048, 128), dtype=float32)\n",
      "output size: 262144 \n",
      "\n",
      "encoder_conv_layer_2 conv params =  16512\n",
      "bnorm params =  256\n",
      "Tensor(\"single_class_ae_2/Relu_2:0\", shape=(?, 2048, 128), dtype=float32)\n",
      "output size: 262144 \n",
      "\n",
      "encoder_conv_layer_3 conv params =  33024\n",
      "bnorm params =  512\n",
      "Tensor(\"single_class_ae_2/Relu_3:0\", shape=(?, 2048, 256), dtype=float32)\n",
      "output size: 524288 \n",
      "\n",
      "encoder_conv_layer_4 conv params =  32896\n",
      "bnorm params =  256\n",
      "Tensor(\"single_class_ae_2/Relu_4:0\", shape=(?, 2048, 128), dtype=float32)\n",
      "output size: 262144 \n",
      "\n",
      "Tensor(\"single_class_ae_2/Max:0\", shape=(?, 128), dtype=float32)\n",
      "Building Decoder\n",
      "decoder_fc_0 FC params =  33024\n",
      "Tensor(\"single_class_ae_2/Relu_5:0\", shape=(?, 256), dtype=float32)\n",
      "output size: 256 \n",
      "\n",
      "decoder_fc_1 FC params =  65792\n",
      "Tensor(\"single_class_ae_2/Relu_6:0\", shape=(?, 256), dtype=float32)\n",
      "output size: 256 \n",
      "\n",
      "decoder_fc_2 FC params =  1579008\n",
      "Tensor(\"single_class_ae_2/decoder_fc_2/BiasAdd:0\", shape=(?, 6144), dtype=float32)\n",
      "output size: 6144 \n",
      "\n"
     ]
    }
   ],
   "source": [
    "reset_tf_graph()\n",
    "ae = PointNetAutoEncoder(conf.experiment_name, conf)"
   ]
  },
  {
   "cell_type": "markdown",
   "metadata": {},
   "source": [
    "Train the AE (save output to train_stats.txt) "
   ]
  },
  {
   "cell_type": "code",
   "execution_count": 24,
   "metadata": {},
   "outputs": [
    {
     "name": "stdout",
     "output_type": "stream",
     "text": [
      "/home/dmri/github/latent_3d_points/notebooks\n",
      "/home/dmri/github/latent_3d_points/notebooks\n",
      "Epoch: 0001 training time (minutes)= 0.1446 loss= 0.003636913\n",
      "INFO:tensorflow:../data/single_class_ae/models.ckpt-1 is not in all_model_checkpoint_paths. Manually adding it.\n",
      "Epoch: 0002 training time (minutes)= 0.1269 loss= 0.001683499\n",
      "Epoch: 0003 training time (minutes)= 0.1272 loss= 0.001432595\n",
      "Epoch: 0004 training time (minutes)= 0.1309 loss= 0.001340589\n",
      "Epoch: 0005 training time (minutes)= 0.1312 loss= 0.001274634\n",
      "Epoch: 0006 training time (minutes)= 0.1288 loss= 0.001185080\n",
      "Epoch: 0007 training time (minutes)= 0.1316 loss= 0.001184572\n",
      "Epoch: 0008 training time (minutes)= 0.1278 loss= 0.001093478\n",
      "Epoch: 0009 training time (minutes)= 0.1283 loss= 0.001063856\n",
      "Epoch: 0010 training time (minutes)= 0.1298 loss= 0.001051119\n",
      "INFO:tensorflow:../data/single_class_ae/models.ckpt-10 is not in all_model_checkpoint_paths. Manually adding it.\n",
      "Epoch: 0011 training time (minutes)= 0.1293 loss= 0.001022256\n",
      "Epoch: 0012 training time (minutes)= 0.1287 loss= 0.001003316\n",
      "Epoch: 0013 training time (minutes)= 0.1290 loss= 0.000972946\n",
      "Epoch: 0014 training time (minutes)= 0.1304 loss= 0.000967769\n",
      "Epoch: 0015 training time (minutes)= 0.1299 loss= 0.000943565\n",
      "Epoch: 0016 training time (minutes)= 0.1296 loss= 0.000982298\n",
      "Epoch: 0017 training time (minutes)= 0.1261 loss= 0.000925112\n",
      "Epoch: 0018 training time (minutes)= 0.1266 loss= 0.000916792\n",
      "Epoch: 0019 training time (minutes)= 0.1262 loss= 0.000891760\n",
      "Epoch: 0020 training time (minutes)= 0.1261 loss= 0.000873565\n",
      "INFO:tensorflow:../data/single_class_ae/models.ckpt-20 is not in all_model_checkpoint_paths. Manually adding it.\n",
      "Epoch: 0021 training time (minutes)= 0.1262 loss= 0.000883068\n",
      "Epoch: 0022 training time (minutes)= 0.1260 loss= 0.000879084\n",
      "Epoch: 0023 training time (minutes)= 0.1260 loss= 0.000853965\n",
      "Epoch: 0024 training time (minutes)= 0.1264 loss= 0.000829645\n",
      "Epoch: 0025 training time (minutes)= 0.1262 loss= 0.000824627\n",
      "Epoch: 0026 training time (minutes)= 0.1265 loss= 0.000852821\n",
      "Epoch: 0027 training time (minutes)= 0.1261 loss= 0.000818646\n",
      "Epoch: 0028 training time (minutes)= 0.1262 loss= 0.000807984\n",
      "Epoch: 0029 training time (minutes)= 0.1262 loss= 0.000826651\n",
      "Epoch: 0030 training time (minutes)= 0.1262 loss= 0.000831856\n",
      "INFO:tensorflow:../data/single_class_ae/models.ckpt-30 is not in all_model_checkpoint_paths. Manually adding it.\n",
      "Epoch: 0031 training time (minutes)= 0.1260 loss= 0.000815297\n",
      "Epoch: 0032 training time (minutes)= 0.1264 loss= 0.000806217\n",
      "Epoch: 0033 training time (minutes)= 0.1261 loss= 0.000809364\n",
      "Epoch: 0034 training time (minutes)= 0.1260 loss= 0.000803367\n",
      "Epoch: 0035 training time (minutes)= 0.1262 loss= 0.000790199\n",
      "Epoch: 0036 training time (minutes)= 0.1261 loss= 0.000770474\n",
      "Epoch: 0037 training time (minutes)= 0.1263 loss= 0.000761380\n",
      "Epoch: 0038 training time (minutes)= 0.1262 loss= 0.000776209\n",
      "Epoch: 0039 training time (minutes)= 0.1263 loss= 0.000772564\n",
      "Epoch: 0040 training time (minutes)= 0.1262 loss= 0.000767793\n",
      "INFO:tensorflow:../data/single_class_ae/models.ckpt-40 is not in all_model_checkpoint_paths. Manually adding it.\n",
      "Epoch: 0041 training time (minutes)= 0.1259 loss= 0.000774805\n",
      "Epoch: 0042 training time (minutes)= 0.1264 loss= 0.000766927\n",
      "Epoch: 0043 training time (minutes)= 0.1260 loss= 0.000736098\n",
      "Epoch: 0044 training time (minutes)= 0.1262 loss= 0.000745658\n",
      "Epoch: 0045 training time (minutes)= 0.1260 loss= 0.000746378\n",
      "Epoch: 0046 training time (minutes)= 0.1258 loss= 0.000734638\n",
      "Epoch: 0047 training time (minutes)= 0.1258 loss= 0.000749016\n",
      "Epoch: 0048 training time (minutes)= 0.1264 loss= 0.000749925\n",
      "Epoch: 0049 training time (minutes)= 0.1276 loss= 0.000747601\n",
      "Epoch: 0050 training time (minutes)= 0.1274 loss= 0.000723882\n",
      "INFO:tensorflow:../data/single_class_ae/models.ckpt-50 is not in all_model_checkpoint_paths. Manually adding it.\n",
      "Epoch: 0051 training time (minutes)= 0.1267 loss= 0.000718303\n",
      "Epoch: 0052 training time (minutes)= 0.1267 loss= 0.000703266\n",
      "Epoch: 0053 training time (minutes)= 0.1282 loss= 0.000706547\n",
      "Epoch: 0054 training time (minutes)= 0.1299 loss= 0.000708538\n",
      "Epoch: 0055 training time (minutes)= 0.1288 loss= 0.000704157\n",
      "Epoch: 0056 training time (minutes)= 0.1298 loss= 0.000696494\n",
      "Epoch: 0057 training time (minutes)= 0.1266 loss= 0.000688909\n",
      "Epoch: 0058 training time (minutes)= 0.1272 loss= 0.000708758\n",
      "Epoch: 0059 training time (minutes)= 0.1315 loss= 0.000689416\n",
      "Epoch: 0060 training time (minutes)= 0.1298 loss= 0.000683590\n",
      "INFO:tensorflow:../data/single_class_ae/models.ckpt-60 is not in all_model_checkpoint_paths. Manually adding it.\n",
      "Epoch: 0061 training time (minutes)= 0.1281 loss= 0.000704398\n",
      "Epoch: 0062 training time (minutes)= 0.1274 loss= 0.000695053\n",
      "Epoch: 0063 training time (minutes)= 0.1305 loss= 0.000673279\n",
      "Epoch: 0064 training time (minutes)= 0.1292 loss= 0.000682662\n",
      "Epoch: 0065 training time (minutes)= 0.1305 loss= 0.000692863\n",
      "Epoch: 0066 training time (minutes)= 0.1272 loss= 0.000687216\n",
      "Epoch: 0067 training time (minutes)= 0.1326 loss= 0.000671923\n",
      "Epoch: 0068 training time (minutes)= 0.1269 loss= 0.000668641\n",
      "Epoch: 0069 training time (minutes)= 0.1290 loss= 0.000677074\n",
      "Epoch: 0070 training time (minutes)= 0.1301 loss= 0.000679973\n",
      "INFO:tensorflow:../data/single_class_ae/models.ckpt-70 is not in all_model_checkpoint_paths. Manually adding it.\n",
      "Epoch: 0071 training time (minutes)= 0.1297 loss= 0.000661659\n",
      "Epoch: 0072 training time (minutes)= 0.1324 loss= 0.000663913\n",
      "Epoch: 0073 training time (minutes)= 0.1291 loss= 0.000664424\n",
      "Epoch: 0074 training time (minutes)= 0.1291 loss= 0.000662036\n",
      "Epoch: 0075 training time (minutes)= 0.1274 loss= 0.000644618\n",
      "Epoch: 0076 training time (minutes)= 0.1296 loss= 0.000640048\n",
      "Epoch: 0077 training time (minutes)= 0.1279 loss= 0.000655113\n",
      "Epoch: 0078 training time (minutes)= 0.1308 loss= 0.000651279\n",
      "Epoch: 0079 training time (minutes)= 0.1289 loss= 0.000649858\n",
      "Epoch: 0080 training time (minutes)= 0.1300 loss= 0.000635652\n",
      "INFO:tensorflow:../data/single_class_ae/models.ckpt-80 is not in all_model_checkpoint_paths. Manually adding it.\n",
      "Epoch: 0081 training time (minutes)= 0.1270 loss= 0.000645940\n",
      "Epoch: 0082 training time (minutes)= 0.1266 loss= 0.000649355\n",
      "Epoch: 0083 training time (minutes)= 0.1289 loss= 0.000664128\n",
      "Epoch: 0084 training time (minutes)= 0.1292 loss= 0.000646622\n",
      "Epoch: 0085 training time (minutes)= 0.1286 loss= 0.000634934\n",
      "Epoch: 0086 training time (minutes)= 0.1303 loss= 0.000648564\n",
      "Epoch: 0087 training time (minutes)= 0.1299 loss= 0.000647894\n",
      "Epoch: 0088 training time (minutes)= 0.1320 loss= 0.000623824\n",
      "Epoch: 0089 training time (minutes)= 0.1308 loss= 0.000627799\n",
      "Epoch: 0090 training time (minutes)= 0.1262 loss= 0.000635243\n",
      "INFO:tensorflow:../data/single_class_ae/models.ckpt-90 is not in all_model_checkpoint_paths. Manually adding it.\n",
      "Epoch: 0091 training time (minutes)= 0.1275 loss= 0.000617113\n",
      "Epoch: 0092 training time (minutes)= 0.1273 loss= 0.000619694\n",
      "Epoch: 0093 training time (minutes)= 0.1273 loss= 0.000624389\n",
      "Epoch: 0094 training time (minutes)= 0.1281 loss= 0.000633946\n",
      "Epoch: 0095 training time (minutes)= 0.1266 loss= 0.000624107\n",
      "Epoch: 0096 training time (minutes)= 0.1269 loss= 0.000626219\n",
      "Epoch: 0097 training time (minutes)= 0.1272 loss= 0.000621412\n",
      "Epoch: 0098 training time (minutes)= 0.1271 loss= 0.000622319\n",
      "Epoch: 0099 training time (minutes)= 0.1279 loss= 0.000613000\n",
      "Epoch: 0100 training time (minutes)= 0.1259 loss= 0.000628648\n",
      "INFO:tensorflow:../data/single_class_ae/models.ckpt-100 is not in all_model_checkpoint_paths. Manually adding it.\n",
      "Epoch: 0101 training time (minutes)= 0.1260 loss= 0.000628050\n",
      "Epoch: 0102 training time (minutes)= 0.1259 loss= 0.000613795\n",
      "Epoch: 0103 training time (minutes)= 0.1260 loss= 0.000602824\n",
      "Epoch: 0104 training time (minutes)= 0.1265 loss= 0.000612961\n",
      "Epoch: 0105 training time (minutes)= 0.1262 loss= 0.000599308\n",
      "Epoch: 0106 training time (minutes)= 0.1263 loss= 0.000603151\n",
      "Epoch: 0107 training time (minutes)= 0.1261 loss= 0.000612408\n",
      "Epoch: 0108 training time (minutes)= 0.1257 loss= 0.000606227\n",
      "Epoch: 0109 training time (minutes)= 0.1260 loss= 0.000613062\n",
      "Epoch: 0110 training time (minutes)= 0.1260 loss= 0.000605407\n",
      "INFO:tensorflow:../data/single_class_ae/models.ckpt-110 is not in all_model_checkpoint_paths. Manually adding it.\n"
     ]
    },
    {
     "name": "stdout",
     "output_type": "stream",
     "text": [
      "Epoch: 0111 training time (minutes)= 0.1263 loss= 0.000602125\n",
      "Epoch: 0112 training time (minutes)= 0.1261 loss= 0.000603045\n",
      "Epoch: 0113 training time (minutes)= 0.1303 loss= 0.000599626\n",
      "Epoch: 0114 training time (minutes)= 0.1277 loss= 0.000595469\n",
      "Epoch: 0115 training time (minutes)= 0.1320 loss= 0.000599000\n",
      "Epoch: 0116 training time (minutes)= 0.1313 loss= 0.000599151\n",
      "Epoch: 0117 training time (minutes)= 0.1320 loss= 0.000591098\n",
      "Epoch: 0118 training time (minutes)= 0.1270 loss= 0.000598104\n",
      "Epoch: 0119 training time (minutes)= 0.1261 loss= 0.000578530\n",
      "Epoch: 0120 training time (minutes)= 0.1267 loss= 0.000591260\n",
      "INFO:tensorflow:../data/single_class_ae/models.ckpt-120 is not in all_model_checkpoint_paths. Manually adding it.\n",
      "Epoch: 0121 training time (minutes)= 0.1261 loss= 0.000581295\n",
      "Epoch: 0122 training time (minutes)= 0.1259 loss= 0.000578089\n",
      "Epoch: 0123 training time (minutes)= 0.1262 loss= 0.000597963\n",
      "Epoch: 0124 training time (minutes)= 0.1261 loss= 0.000600993\n",
      "Epoch: 0125 training time (minutes)= 0.1261 loss= 0.000583881\n",
      "Epoch: 0126 training time (minutes)= 0.1264 loss= 0.000582038\n",
      "Epoch: 0127 training time (minutes)= 0.1260 loss= 0.000577963\n",
      "Epoch: 0128 training time (minutes)= 0.1262 loss= 0.000570059\n",
      "Epoch: 0129 training time (minutes)= 0.1262 loss= 0.000576276\n",
      "Epoch: 0130 training time (minutes)= 0.1264 loss= 0.000581594\n",
      "INFO:tensorflow:../data/single_class_ae/models.ckpt-130 is not in all_model_checkpoint_paths. Manually adding it.\n",
      "Epoch: 0131 training time (minutes)= 0.1261 loss= 0.000581322\n",
      "Epoch: 0132 training time (minutes)= 0.1262 loss= 0.000570220\n",
      "Epoch: 0133 training time (minutes)= 0.1260 loss= 0.000578904\n",
      "Epoch: 0134 training time (minutes)= 0.1260 loss= 0.000565618\n",
      "Epoch: 0135 training time (minutes)= 0.1262 loss= 0.000580025\n",
      "Epoch: 0136 training time (minutes)= 0.1264 loss= 0.000576047\n",
      "Epoch: 0137 training time (minutes)= 0.1260 loss= 0.000593628\n",
      "Epoch: 0138 training time (minutes)= 0.1263 loss= 0.000587934\n",
      "Epoch: 0139 training time (minutes)= 0.1262 loss= 0.000574968\n",
      "Epoch: 0140 training time (minutes)= 0.1261 loss= 0.000578460\n",
      "INFO:tensorflow:../data/single_class_ae/models.ckpt-140 is not in all_model_checkpoint_paths. Manually adding it.\n",
      "Epoch: 0141 training time (minutes)= 0.1260 loss= 0.000574053\n",
      "Epoch: 0142 training time (minutes)= 0.1260 loss= 0.000582453\n",
      "Epoch: 0143 training time (minutes)= 0.1263 loss= 0.000571233\n",
      "Epoch: 0144 training time (minutes)= 0.1265 loss= 0.000576664\n",
      "Epoch: 0145 training time (minutes)= 0.1260 loss= 0.000574993\n",
      "Epoch: 0146 training time (minutes)= 0.1261 loss= 0.000570581\n",
      "Epoch: 0147 training time (minutes)= 0.1265 loss= 0.000579912\n",
      "Epoch: 0148 training time (minutes)= 0.1262 loss= 0.000570276\n",
      "Epoch: 0149 training time (minutes)= 0.1260 loss= 0.000569808\n",
      "Epoch: 0150 training time (minutes)= 0.1262 loss= 0.000554621\n",
      "INFO:tensorflow:../data/single_class_ae/models.ckpt-150 is not in all_model_checkpoint_paths. Manually adding it.\n",
      "Epoch: 0151 training time (minutes)= 0.1267 loss= 0.000565880\n",
      "Epoch: 0152 training time (minutes)= 0.1265 loss= 0.000565420\n",
      "Epoch: 0153 training time (minutes)= 0.1262 loss= 0.000571196\n",
      "Epoch: 0154 training time (minutes)= 0.1261 loss= 0.000564817\n",
      "Epoch: 0155 training time (minutes)= 0.1266 loss= 0.000556264\n",
      "Epoch: 0156 training time (minutes)= 0.1265 loss= 0.000567030\n",
      "Epoch: 0157 training time (minutes)= 0.1264 loss= 0.000562157\n",
      "Epoch: 0158 training time (minutes)= 0.1261 loss= 0.000561410\n",
      "Epoch: 0159 training time (minutes)= 0.1264 loss= 0.000573564\n",
      "Epoch: 0160 training time (minutes)= 0.1262 loss= 0.000560132\n",
      "INFO:tensorflow:../data/single_class_ae/models.ckpt-160 is not in all_model_checkpoint_paths. Manually adding it.\n",
      "Epoch: 0161 training time (minutes)= 0.1262 loss= 0.000563745\n",
      "Epoch: 0162 training time (minutes)= 0.1260 loss= 0.000563070\n",
      "Epoch: 0163 training time (minutes)= 0.1264 loss= 0.000554712\n",
      "Epoch: 0164 training time (minutes)= 0.1264 loss= 0.000564536\n",
      "Epoch: 0165 training time (minutes)= 0.1260 loss= 0.000562538\n",
      "Epoch: 0166 training time (minutes)= 0.1263 loss= 0.000555479\n",
      "Epoch: 0167 training time (minutes)= 0.1266 loss= 0.000560861\n",
      "Epoch: 0168 training time (minutes)= 0.1263 loss= 0.000553798\n",
      "Epoch: 0169 training time (minutes)= 0.1264 loss= 0.000550913\n",
      "Epoch: 0170 training time (minutes)= 0.1264 loss= 0.000557375\n",
      "INFO:tensorflow:../data/single_class_ae/models.ckpt-170 is not in all_model_checkpoint_paths. Manually adding it.\n",
      "Epoch: 0171 training time (minutes)= 0.1259 loss= 0.000550398\n",
      "Epoch: 0172 training time (minutes)= 0.1263 loss= 0.000558128\n",
      "Epoch: 0173 training time (minutes)= 0.1263 loss= 0.000565593\n",
      "Epoch: 0174 training time (minutes)= 0.1263 loss= 0.000550279\n",
      "Epoch: 0175 training time (minutes)= 0.1263 loss= 0.000556700\n",
      "Epoch: 0176 training time (minutes)= 0.1262 loss= 0.000563901\n",
      "Epoch: 0177 training time (minutes)= 0.1262 loss= 0.000558101\n",
      "Epoch: 0178 training time (minutes)= 0.1262 loss= 0.000547270\n",
      "Epoch: 0179 training time (minutes)= 0.1261 loss= 0.000545623\n",
      "Epoch: 0180 training time (minutes)= 0.1261 loss= 0.000550167\n",
      "INFO:tensorflow:../data/single_class_ae/models.ckpt-180 is not in all_model_checkpoint_paths. Manually adding it.\n",
      "Epoch: 0181 training time (minutes)= 0.1261 loss= 0.000549501\n",
      "Epoch: 0182 training time (minutes)= 0.1261 loss= 0.000541834\n",
      "Epoch: 0183 training time (minutes)= 0.1267 loss= 0.000543074\n",
      "Epoch: 0184 training time (minutes)= 0.1261 loss= 0.000539159\n",
      "Epoch: 0185 training time (minutes)= 0.1262 loss= 0.000544809\n",
      "Epoch: 0186 training time (minutes)= 0.1260 loss= 0.000549271\n",
      "Epoch: 0187 training time (minutes)= 0.1261 loss= 0.000527936\n",
      "Epoch: 0188 training time (minutes)= 0.1262 loss= 0.000556105\n",
      "Epoch: 0189 training time (minutes)= 0.1260 loss= 0.000555708\n",
      "Epoch: 0190 training time (minutes)= 0.1262 loss= 0.000537363\n",
      "INFO:tensorflow:../data/single_class_ae/models.ckpt-190 is not in all_model_checkpoint_paths. Manually adding it.\n",
      "Epoch: 0191 training time (minutes)= 0.1263 loss= 0.000540604\n",
      "Epoch: 0192 training time (minutes)= 0.1262 loss= 0.000554015\n",
      "Epoch: 0193 training time (minutes)= 0.1264 loss= 0.000548832\n",
      "Epoch: 0194 training time (minutes)= 0.1262 loss= 0.000546939\n",
      "Epoch: 0195 training time (minutes)= 0.1261 loss= 0.000533399\n",
      "Epoch: 0196 training time (minutes)= 0.1263 loss= 0.000558496\n",
      "Epoch: 0197 training time (minutes)= 0.1263 loss= 0.000543710\n",
      "Epoch: 0198 training time (minutes)= 0.1264 loss= 0.000535596\n",
      "Epoch: 0199 training time (minutes)= 0.1267 loss= 0.000552455\n",
      "Epoch: 0200 training time (minutes)= 0.1264 loss= 0.000539271\n",
      "INFO:tensorflow:../data/single_class_ae/models.ckpt-200 is not in all_model_checkpoint_paths. Manually adding it.\n",
      "Epoch: 0201 training time (minutes)= 0.1259 loss= 0.000540519\n",
      "Epoch: 0202 training time (minutes)= 0.1265 loss= 0.000533800\n",
      "Epoch: 0203 training time (minutes)= 0.1262 loss= 0.000534038\n",
      "Epoch: 0204 training time (minutes)= 0.1261 loss= 0.000542546\n",
      "Epoch: 0205 training time (minutes)= 0.1262 loss= 0.000533935\n",
      "Epoch: 0206 training time (minutes)= 0.1259 loss= 0.000534129\n",
      "Epoch: 0207 training time (minutes)= 0.1264 loss= 0.000528152\n",
      "Epoch: 0208 training time (minutes)= 0.1260 loss= 0.000533469\n",
      "Epoch: 0209 training time (minutes)= 0.1261 loss= 0.000533239\n",
      "Epoch: 0210 training time (minutes)= 0.1261 loss= 0.000540706\n",
      "INFO:tensorflow:../data/single_class_ae/models.ckpt-210 is not in all_model_checkpoint_paths. Manually adding it.\n",
      "Epoch: 0211 training time (minutes)= 0.1263 loss= 0.000519700\n",
      "Epoch: 0212 training time (minutes)= 0.1264 loss= 0.000525681\n",
      "Epoch: 0213 training time (minutes)= 0.1261 loss= 0.000540037\n",
      "Epoch: 0214 training time (minutes)= 0.1261 loss= 0.000537083\n",
      "Epoch: 0215 training time (minutes)= 0.1267 loss= 0.000528567\n",
      "Epoch: 0216 training time (minutes)= 0.1262 loss= 0.000529754\n",
      "Epoch: 0217 training time (minutes)= 0.1262 loss= 0.000527074\n",
      "Epoch: 0218 training time (minutes)= 0.1263 loss= 0.000533103\n",
      "Epoch: 0219 training time (minutes)= 0.1264 loss= 0.000531219\n",
      "Epoch: 0220 training time (minutes)= 0.1263 loss= 0.000535173\n",
      "INFO:tensorflow:../data/single_class_ae/models.ckpt-220 is not in all_model_checkpoint_paths. Manually adding it.\n",
      "Epoch: 0221 training time (minutes)= 0.1266 loss= 0.000537318\n",
      "Epoch: 0222 training time (minutes)= 0.1263 loss= 0.000522626\n"
     ]
    },
    {
     "name": "stdout",
     "output_type": "stream",
     "text": [
      "Epoch: 0223 training time (minutes)= 0.1263 loss= 0.000531797\n",
      "Epoch: 0224 training time (minutes)= 0.1263 loss= 0.000524508\n",
      "Epoch: 0225 training time (minutes)= 0.1262 loss= 0.000515972\n",
      "Epoch: 0226 training time (minutes)= 0.1262 loss= 0.000526836\n",
      "Epoch: 0227 training time (minutes)= 0.1264 loss= 0.000525426\n",
      "Epoch: 0228 training time (minutes)= 0.1263 loss= 0.000530717\n",
      "Epoch: 0229 training time (minutes)= 0.1261 loss= 0.000529534\n",
      "Epoch: 0230 training time (minutes)= 0.1264 loss= 0.000529926\n",
      "INFO:tensorflow:../data/single_class_ae/models.ckpt-230 is not in all_model_checkpoint_paths. Manually adding it.\n",
      "Epoch: 0231 training time (minutes)= 0.1264 loss= 0.000524273\n",
      "Epoch: 0232 training time (minutes)= 0.1261 loss= 0.000523609\n",
      "Epoch: 0233 training time (minutes)= 0.1262 loss= 0.000523813\n",
      "Epoch: 0234 training time (minutes)= 0.1262 loss= 0.000523874\n",
      "Epoch: 0235 training time (minutes)= 0.1265 loss= 0.000534123\n",
      "Epoch: 0236 training time (minutes)= 0.1262 loss= 0.000525178\n",
      "Epoch: 0237 training time (minutes)= 0.1262 loss= 0.000520037\n",
      "Epoch: 0238 training time (minutes)= 0.1264 loss= 0.000525194\n",
      "Epoch: 0239 training time (minutes)= 0.1263 loss= 0.000524044\n",
      "Epoch: 0240 training time (minutes)= 0.1262 loss= 0.000524426\n",
      "INFO:tensorflow:../data/single_class_ae/models.ckpt-240 is not in all_model_checkpoint_paths. Manually adding it.\n",
      "Epoch: 0241 training time (minutes)= 0.1259 loss= 0.000524863\n",
      "Epoch: 0242 training time (minutes)= 0.1262 loss= 0.000517240\n",
      "Epoch: 0243 training time (minutes)= 0.1262 loss= 0.000519370\n",
      "Epoch: 0244 training time (minutes)= 0.1263 loss= 0.000515974\n",
      "Epoch: 0245 training time (minutes)= 0.1263 loss= 0.000515203\n",
      "Epoch: 0246 training time (minutes)= 0.1267 loss= 0.000516961\n",
      "Epoch: 0247 training time (minutes)= 0.1264 loss= 0.000520306\n",
      "Epoch: 0248 training time (minutes)= 0.1262 loss= 0.000528041\n",
      "Epoch: 0249 training time (minutes)= 0.1262 loss= 0.000514919\n",
      "Epoch: 0250 training time (minutes)= 0.1262 loss= 0.000522086\n",
      "INFO:tensorflow:../data/single_class_ae/models.ckpt-250 is not in all_model_checkpoint_paths. Manually adding it.\n",
      "Epoch: 0251 training time (minutes)= 0.1259 loss= 0.000516099\n",
      "Epoch: 0252 training time (minutes)= 0.1262 loss= 0.000522756\n",
      "Epoch: 0253 training time (minutes)= 0.1261 loss= 0.000519586\n",
      "Epoch: 0254 training time (minutes)= 0.1262 loss= 0.000519382\n",
      "Epoch: 0255 training time (minutes)= 0.1263 loss= 0.000512383\n",
      "Epoch: 0256 training time (minutes)= 0.1264 loss= 0.000518900\n",
      "Epoch: 0257 training time (minutes)= 0.1261 loss= 0.000517606\n",
      "Epoch: 0258 training time (minutes)= 0.1258 loss= 0.000513356\n",
      "Epoch: 0259 training time (minutes)= 0.1264 loss= 0.000520295\n",
      "Epoch: 0260 training time (minutes)= 0.1262 loss= 0.000516579\n",
      "INFO:tensorflow:../data/single_class_ae/models.ckpt-260 is not in all_model_checkpoint_paths. Manually adding it.\n",
      "Epoch: 0261 training time (minutes)= 0.1263 loss= 0.000515844\n",
      "Epoch: 0262 training time (minutes)= 0.1267 loss= 0.000519991\n",
      "Epoch: 0263 training time (minutes)= 0.1265 loss= 0.000514507\n",
      "Epoch: 0264 training time (minutes)= 0.1262 loss= 0.000513283\n",
      "Epoch: 0265 training time (minutes)= 0.1265 loss= 0.000517507\n",
      "Epoch: 0266 training time (minutes)= 0.1261 loss= 0.000518800\n",
      "Epoch: 0267 training time (minutes)= 0.1264 loss= 0.000512531\n",
      "Epoch: 0268 training time (minutes)= 0.1262 loss= 0.000514467\n",
      "Epoch: 0269 training time (minutes)= 0.1261 loss= 0.000510024\n",
      "Epoch: 0270 training time (minutes)= 0.1262 loss= 0.000512835\n",
      "INFO:tensorflow:../data/single_class_ae/models.ckpt-270 is not in all_model_checkpoint_paths. Manually adding it.\n",
      "Epoch: 0271 training time (minutes)= 0.1265 loss= 0.000510066\n",
      "Epoch: 0272 training time (minutes)= 0.1264 loss= 0.000507847\n",
      "Epoch: 0273 training time (minutes)= 0.1262 loss= 0.000510404\n",
      "Epoch: 0274 training time (minutes)= 0.1262 loss= 0.000513138\n",
      "Epoch: 0275 training time (minutes)= 0.1267 loss= 0.000514338\n",
      "Epoch: 0276 training time (minutes)= 0.1261 loss= 0.000506152\n",
      "Epoch: 0277 training time (minutes)= 0.1261 loss= 0.000512121\n",
      "Epoch: 0278 training time (minutes)= 0.1268 loss= 0.000516761\n",
      "Epoch: 0279 training time (minutes)= 0.1266 loss= 0.000518308\n",
      "Epoch: 0280 training time (minutes)= 0.1262 loss= 0.000511141\n",
      "INFO:tensorflow:../data/single_class_ae/models.ckpt-280 is not in all_model_checkpoint_paths. Manually adding it.\n",
      "Epoch: 0281 training time (minutes)= 0.1260 loss= 0.000511653\n",
      "Epoch: 0282 training time (minutes)= 0.1262 loss= 0.000505109\n",
      "Epoch: 0283 training time (minutes)= 0.1265 loss= 0.000507246\n",
      "Epoch: 0284 training time (minutes)= 0.1263 loss= 0.000512628\n",
      "Epoch: 0285 training time (minutes)= 0.1262 loss= 0.000516132\n",
      "Epoch: 0286 training time (minutes)= 0.1263 loss= 0.000511436\n",
      "Epoch: 0287 training time (minutes)= 0.1261 loss= 0.000512739\n",
      "Epoch: 0288 training time (minutes)= 0.1261 loss= 0.000504557\n",
      "Epoch: 0289 training time (minutes)= 0.1265 loss= 0.000509280\n",
      "Epoch: 0290 training time (minutes)= 0.1261 loss= 0.000519361\n",
      "INFO:tensorflow:../data/single_class_ae/models.ckpt-290 is not in all_model_checkpoint_paths. Manually adding it.\n",
      "Epoch: 0291 training time (minutes)= 0.1260 loss= 0.000502779\n",
      "Epoch: 0292 training time (minutes)= 0.1262 loss= 0.000504874\n",
      "Epoch: 0293 training time (minutes)= 0.1262 loss= 0.000502247\n",
      "Epoch: 0294 training time (minutes)= 0.1266 loss= 0.000502475\n",
      "Epoch: 0295 training time (minutes)= 0.1263 loss= 0.000499617\n",
      "Epoch: 0296 training time (minutes)= 0.1260 loss= 0.000496285\n",
      "Epoch: 0297 training time (minutes)= 0.1264 loss= 0.000509764\n",
      "Epoch: 0298 training time (minutes)= 0.1265 loss= 0.000506396\n",
      "Epoch: 0299 training time (minutes)= 0.1262 loss= 0.000500090\n",
      "Epoch: 0300 training time (minutes)= 0.1260 loss= 0.000508508\n",
      "INFO:tensorflow:../data/single_class_ae/models.ckpt-300 is not in all_model_checkpoint_paths. Manually adding it.\n",
      "Epoch: 0301 training time (minutes)= 0.1265 loss= 0.000499641\n",
      "Epoch: 0302 training time (minutes)= 0.1260 loss= 0.000506303\n",
      "Epoch: 0303 training time (minutes)= 0.1262 loss= 0.000502844\n",
      "Epoch: 0304 training time (minutes)= 0.1264 loss= 0.000503760\n",
      "Epoch: 0305 training time (minutes)= 0.1260 loss= 0.000507431\n",
      "Epoch: 0306 training time (minutes)= 0.1262 loss= 0.000507561\n",
      "Epoch: 0307 training time (minutes)= 0.1260 loss= 0.000501095\n",
      "Epoch: 0308 training time (minutes)= 0.1264 loss= 0.000500421\n",
      "Epoch: 0309 training time (minutes)= 0.1268 loss= 0.000494242\n",
      "Epoch: 0310 training time (minutes)= 0.1263 loss= 0.000498279\n",
      "INFO:tensorflow:../data/single_class_ae/models.ckpt-310 is not in all_model_checkpoint_paths. Manually adding it.\n",
      "Epoch: 0311 training time (minutes)= 0.1264 loss= 0.000510009\n",
      "Epoch: 0312 training time (minutes)= 0.1263 loss= 0.000502659\n",
      "Epoch: 0313 training time (minutes)= 0.1262 loss= 0.000502178\n",
      "Epoch: 0314 training time (minutes)= 0.1261 loss= 0.000506577\n",
      "Epoch: 0315 training time (minutes)= 0.1263 loss= 0.000505618\n",
      "Epoch: 0316 training time (minutes)= 0.1261 loss= 0.000504234\n",
      "Epoch: 0317 training time (minutes)= 0.1263 loss= 0.000510051\n",
      "Epoch: 0318 training time (minutes)= 0.1266 loss= 0.000495624\n",
      "Epoch: 0319 training time (minutes)= 0.1263 loss= 0.000496592\n",
      "Epoch: 0320 training time (minutes)= 0.1262 loss= 0.000498249\n",
      "INFO:tensorflow:../data/single_class_ae/models.ckpt-320 is not in all_model_checkpoint_paths. Manually adding it.\n",
      "Epoch: 0321 training time (minutes)= 0.1264 loss= 0.000497291\n",
      "Epoch: 0322 training time (minutes)= 0.1263 loss= 0.000495734\n",
      "Epoch: 0323 training time (minutes)= 0.1263 loss= 0.000496848\n",
      "Epoch: 0324 training time (minutes)= 0.1259 loss= 0.000493996\n",
      "Epoch: 0325 training time (minutes)= 0.1267 loss= 0.000498633\n",
      "Epoch: 0326 training time (minutes)= 0.1264 loss= 0.000494168\n",
      "Epoch: 0327 training time (minutes)= 0.1263 loss= 0.000495243\n",
      "Epoch: 0328 training time (minutes)= 0.1263 loss= 0.000492060\n",
      "Epoch: 0329 training time (minutes)= 0.1259 loss= 0.000494833\n",
      "Epoch: 0330 training time (minutes)= 0.1261 loss= 0.000498642\n",
      "INFO:tensorflow:../data/single_class_ae/models.ckpt-330 is not in all_model_checkpoint_paths. Manually adding it.\n",
      "Epoch: 0331 training time (minutes)= 0.1260 loss= 0.000495020\n",
      "Epoch: 0332 training time (minutes)= 0.1262 loss= 0.000506233\n",
      "Epoch: 0333 training time (minutes)= 0.1265 loss= 0.000491436\n",
      "Epoch: 0334 training time (minutes)= 0.1260 loss= 0.000497174\n"
     ]
    },
    {
     "name": "stdout",
     "output_type": "stream",
     "text": [
      "Epoch: 0335 training time (minutes)= 0.1263 loss= 0.000493464\n",
      "Epoch: 0336 training time (minutes)= 0.1261 loss= 0.000486978\n",
      "Epoch: 0337 training time (minutes)= 0.1260 loss= 0.000499788\n",
      "Epoch: 0338 training time (minutes)= 0.1264 loss= 0.000491414\n",
      "Epoch: 0339 training time (minutes)= 0.1264 loss= 0.000493408\n",
      "Epoch: 0340 training time (minutes)= 0.1264 loss= 0.000497651\n",
      "INFO:tensorflow:../data/single_class_ae/models.ckpt-340 is not in all_model_checkpoint_paths. Manually adding it.\n",
      "Epoch: 0341 training time (minutes)= 0.1263 loss= 0.000493433\n",
      "Epoch: 0342 training time (minutes)= 0.1263 loss= 0.000496897\n",
      "Epoch: 0343 training time (minutes)= 0.1260 loss= 0.000504873\n",
      "Epoch: 0344 training time (minutes)= 0.1264 loss= 0.000498419\n",
      "Epoch: 0345 training time (minutes)= 0.1262 loss= 0.000495323\n",
      "Epoch: 0346 training time (minutes)= 0.1264 loss= 0.000495815\n",
      "Epoch: 0347 training time (minutes)= 0.1261 loss= 0.000498550\n",
      "Epoch: 0348 training time (minutes)= 0.1264 loss= 0.000490390\n",
      "Epoch: 0349 training time (minutes)= 0.1263 loss= 0.000493695\n",
      "Epoch: 0350 training time (minutes)= 0.1264 loss= 0.000491704\n",
      "INFO:tensorflow:../data/single_class_ae/models.ckpt-350 is not in all_model_checkpoint_paths. Manually adding it.\n",
      "Epoch: 0351 training time (minutes)= 0.1259 loss= 0.000494949\n",
      "Epoch: 0352 training time (minutes)= 0.1261 loss= 0.000492710\n",
      "Epoch: 0353 training time (minutes)= 0.1263 loss= 0.000487284\n",
      "Epoch: 0354 training time (minutes)= 0.1264 loss= 0.000496229\n",
      "Epoch: 0355 training time (minutes)= 0.1261 loss= 0.000495192\n",
      "Epoch: 0356 training time (minutes)= 0.1262 loss= 0.000488838\n",
      "Epoch: 0357 training time (minutes)= 0.1268 loss= 0.000492060\n",
      "Epoch: 0358 training time (minutes)= 0.1264 loss= 0.000493707\n",
      "Epoch: 0359 training time (minutes)= 0.1260 loss= 0.000498198\n",
      "Epoch: 0360 training time (minutes)= 0.1262 loss= 0.000496717\n",
      "INFO:tensorflow:../data/single_class_ae/models.ckpt-360 is not in all_model_checkpoint_paths. Manually adding it.\n",
      "Epoch: 0361 training time (minutes)= 0.1262 loss= 0.000492731\n",
      "Epoch: 0362 training time (minutes)= 0.1262 loss= 0.000486812\n",
      "Epoch: 0363 training time (minutes)= 0.1261 loss= 0.000492807\n",
      "Epoch: 0364 training time (minutes)= 0.1262 loss= 0.000490721\n",
      "Epoch: 0365 training time (minutes)= 0.1262 loss= 0.000490188\n",
      "Epoch: 0366 training time (minutes)= 0.1262 loss= 0.000492636\n",
      "Epoch: 0367 training time (minutes)= 0.1264 loss= 0.000488991\n",
      "Epoch: 0368 training time (minutes)= 0.1264 loss= 0.000487363\n",
      "Epoch: 0369 training time (minutes)= 0.1265 loss= 0.000483238\n",
      "Epoch: 0370 training time (minutes)= 0.1263 loss= 0.000486105\n",
      "INFO:tensorflow:../data/single_class_ae/models.ckpt-370 is not in all_model_checkpoint_paths. Manually adding it.\n",
      "Epoch: 0371 training time (minutes)= 0.1260 loss= 0.000493693\n",
      "Epoch: 0372 training time (minutes)= 0.1263 loss= 0.000491199\n",
      "Epoch: 0373 training time (minutes)= 0.1265 loss= 0.000488176\n",
      "Epoch: 0374 training time (minutes)= 0.1262 loss= 0.000484444\n",
      "Epoch: 0375 training time (minutes)= 0.1262 loss= 0.000486572\n",
      "Epoch: 0376 training time (minutes)= 0.1264 loss= 0.000487145\n",
      "Epoch: 0377 training time (minutes)= 0.1264 loss= 0.000489568\n",
      "Epoch: 0378 training time (minutes)= 0.1259 loss= 0.000495524\n",
      "Epoch: 0379 training time (minutes)= 0.1264 loss= 0.000489759\n",
      "Epoch: 0380 training time (minutes)= 0.1262 loss= 0.000489813\n",
      "INFO:tensorflow:../data/single_class_ae/models.ckpt-380 is not in all_model_checkpoint_paths. Manually adding it.\n",
      "Epoch: 0381 training time (minutes)= 0.1263 loss= 0.000493642\n",
      "Epoch: 0382 training time (minutes)= 0.1263 loss= 0.000487741\n",
      "Epoch: 0383 training time (minutes)= 0.1264 loss= 0.000487327\n",
      "Epoch: 0384 training time (minutes)= 0.1264 loss= 0.000487450\n",
      "Epoch: 0385 training time (minutes)= 0.1261 loss= 0.000485813\n",
      "Epoch: 0386 training time (minutes)= 0.1261 loss= 0.000489938\n",
      "Epoch: 0387 training time (minutes)= 0.1262 loss= 0.000482849\n",
      "Epoch: 0388 training time (minutes)= 0.1265 loss= 0.000490586\n",
      "Epoch: 0389 training time (minutes)= 0.1264 loss= 0.000491469\n",
      "Epoch: 0390 training time (minutes)= 0.1261 loss= 0.000485271\n",
      "INFO:tensorflow:../data/single_class_ae/models.ckpt-390 is not in all_model_checkpoint_paths. Manually adding it.\n",
      "Epoch: 0391 training time (minutes)= 0.1262 loss= 0.000481450\n",
      "Epoch: 0392 training time (minutes)= 0.1262 loss= 0.000485375\n",
      "Epoch: 0393 training time (minutes)= 0.1264 loss= 0.000483569\n",
      "Epoch: 0394 training time (minutes)= 0.1262 loss= 0.000480104\n",
      "Epoch: 0395 training time (minutes)= 0.1262 loss= 0.000486942\n",
      "Epoch: 0396 training time (minutes)= 0.1263 loss= 0.000483431\n",
      "Epoch: 0397 training time (minutes)= 0.1265 loss= 0.000483263\n",
      "Epoch: 0398 training time (minutes)= 0.1262 loss= 0.000484963\n",
      "Epoch: 0399 training time (minutes)= 0.1265 loss= 0.000484454\n",
      "Epoch: 0400 training time (minutes)= 0.1262 loss= 0.000481932\n",
      "INFO:tensorflow:../data/single_class_ae/models.ckpt-400 is not in all_model_checkpoint_paths. Manually adding it.\n",
      "Epoch: 0401 training time (minutes)= 0.1262 loss= 0.000485209\n",
      "Epoch: 0402 training time (minutes)= 0.1263 loss= 0.000480611\n",
      "Epoch: 0403 training time (minutes)= 0.1263 loss= 0.000482300\n",
      "Epoch: 0404 training time (minutes)= 0.1264 loss= 0.000482245\n",
      "Epoch: 0405 training time (minutes)= 0.1267 loss= 0.000493996\n",
      "Epoch: 0406 training time (minutes)= 0.1262 loss= 0.000483422\n",
      "Epoch: 0407 training time (minutes)= 0.1264 loss= 0.000486275\n",
      "Epoch: 0408 training time (minutes)= 0.1262 loss= 0.000482936\n",
      "Epoch: 0409 training time (minutes)= 0.1263 loss= 0.000481290\n",
      "Epoch: 0410 training time (minutes)= 0.1261 loss= 0.000486602\n",
      "INFO:tensorflow:../data/single_class_ae/models.ckpt-410 is not in all_model_checkpoint_paths. Manually adding it.\n",
      "Epoch: 0411 training time (minutes)= 0.1261 loss= 0.000475864\n",
      "Epoch: 0412 training time (minutes)= 0.1260 loss= 0.000475403\n",
      "Epoch: 0413 training time (minutes)= 0.1263 loss= 0.000486533\n",
      "Epoch: 0414 training time (minutes)= 0.1262 loss= 0.000486850\n",
      "Epoch: 0415 training time (minutes)= 0.1261 loss= 0.000481274\n",
      "Epoch: 0416 training time (minutes)= 0.1261 loss= 0.000485608\n",
      "Epoch: 0417 training time (minutes)= 0.1260 loss= 0.000480233\n",
      "Epoch: 0418 training time (minutes)= 0.1266 loss= 0.000475711\n",
      "Epoch: 0419 training time (minutes)= 0.1265 loss= 0.000489819\n",
      "Epoch: 0420 training time (minutes)= 0.1267 loss= 0.000479861\n",
      "INFO:tensorflow:../data/single_class_ae/models.ckpt-420 is not in all_model_checkpoint_paths. Manually adding it.\n",
      "Epoch: 0421 training time (minutes)= 0.1258 loss= 0.000476685\n",
      "Epoch: 0422 training time (minutes)= 0.1261 loss= 0.000477948\n",
      "Epoch: 0423 training time (minutes)= 0.1262 loss= 0.000487047\n",
      "Epoch: 0424 training time (minutes)= 0.1262 loss= 0.000483819\n",
      "Epoch: 0425 training time (minutes)= 0.1262 loss= 0.000480885\n",
      "Epoch: 0426 training time (minutes)= 0.1262 loss= 0.000480486\n",
      "Epoch: 0427 training time (minutes)= 0.1261 loss= 0.000477252\n",
      "Epoch: 0428 training time (minutes)= 0.1265 loss= 0.000478650\n",
      "Epoch: 0429 training time (minutes)= 0.1262 loss= 0.000481197\n",
      "Epoch: 0430 training time (minutes)= 0.1262 loss= 0.000482915\n",
      "INFO:tensorflow:../data/single_class_ae/models.ckpt-430 is not in all_model_checkpoint_paths. Manually adding it.\n",
      "Epoch: 0431 training time (minutes)= 0.1261 loss= 0.000476063\n",
      "Epoch: 0432 training time (minutes)= 0.1263 loss= 0.000476081\n",
      "Epoch: 0433 training time (minutes)= 0.1263 loss= 0.000482572\n",
      "Epoch: 0434 training time (minutes)= 0.1264 loss= 0.000484260\n",
      "Epoch: 0435 training time (minutes)= 0.1263 loss= 0.000483312\n",
      "Epoch: 0436 training time (minutes)= 0.1269 loss= 0.000487115\n",
      "Epoch: 0437 training time (minutes)= 0.1264 loss= 0.000471249\n",
      "Epoch: 0438 training time (minutes)= 0.1262 loss= 0.000472418\n",
      "Epoch: 0439 training time (minutes)= 0.1261 loss= 0.000478348\n",
      "Epoch: 0440 training time (minutes)= 0.1261 loss= 0.000478044\n",
      "INFO:tensorflow:../data/single_class_ae/models.ckpt-440 is not in all_model_checkpoint_paths. Manually adding it.\n",
      "Epoch: 0441 training time (minutes)= 0.1260 loss= 0.000477587\n",
      "Epoch: 0442 training time (minutes)= 0.1262 loss= 0.000481840\n",
      "Epoch: 0443 training time (minutes)= 0.1260 loss= 0.000477870\n",
      "Epoch: 0444 training time (minutes)= 0.1263 loss= 0.000475978\n",
      "Epoch: 0445 training time (minutes)= 0.1260 loss= 0.000489934\n",
      "Epoch: 0446 training time (minutes)= 0.1263 loss= 0.000475636\n"
     ]
    },
    {
     "name": "stdout",
     "output_type": "stream",
     "text": [
      "Epoch: 0447 training time (minutes)= 0.1263 loss= 0.000475052\n",
      "Epoch: 0448 training time (minutes)= 0.1260 loss= 0.000480347\n",
      "Epoch: 0449 training time (minutes)= 0.1260 loss= 0.000473250\n",
      "Epoch: 0450 training time (minutes)= 0.1263 loss= 0.000472068\n",
      "INFO:tensorflow:../data/single_class_ae/models.ckpt-450 is not in all_model_checkpoint_paths. Manually adding it.\n",
      "Epoch: 0451 training time (minutes)= 0.1262 loss= 0.000473203\n",
      "Epoch: 0452 training time (minutes)= 0.1269 loss= 0.000471463\n",
      "Epoch: 0453 training time (minutes)= 0.1263 loss= 0.000480641\n",
      "Epoch: 0454 training time (minutes)= 0.1264 loss= 0.000478162\n",
      "Epoch: 0455 training time (minutes)= 0.1264 loss= 0.000476614\n",
      "Epoch: 0456 training time (minutes)= 0.1263 loss= 0.000473427\n",
      "Epoch: 0457 training time (minutes)= 0.1261 loss= 0.000474977\n",
      "Epoch: 0458 training time (minutes)= 0.1262 loss= 0.000473187\n",
      "Epoch: 0459 training time (minutes)= 0.1265 loss= 0.000475604\n",
      "Epoch: 0460 training time (minutes)= 0.1262 loss= 0.000472596\n",
      "INFO:tensorflow:../data/single_class_ae/models.ckpt-460 is not in all_model_checkpoint_paths. Manually adding it.\n",
      "Epoch: 0461 training time (minutes)= 0.1263 loss= 0.000473654\n",
      "Epoch: 0462 training time (minutes)= 0.1263 loss= 0.000470954\n",
      "Epoch: 0463 training time (minutes)= 0.1261 loss= 0.000469409\n",
      "Epoch: 0464 training time (minutes)= 0.1259 loss= 0.000471016\n",
      "Epoch: 0465 training time (minutes)= 0.1265 loss= 0.000475139\n",
      "Epoch: 0466 training time (minutes)= 0.1261 loss= 0.000473127\n",
      "Epoch: 0467 training time (minutes)= 0.1266 loss= 0.000472844\n",
      "Epoch: 0468 training time (minutes)= 0.1268 loss= 0.000473143\n",
      "Epoch: 0469 training time (minutes)= 0.1264 loss= 0.000473626\n",
      "Epoch: 0470 training time (minutes)= 0.1261 loss= 0.000478641\n",
      "INFO:tensorflow:../data/single_class_ae/models.ckpt-470 is not in all_model_checkpoint_paths. Manually adding it.\n",
      "Epoch: 0471 training time (minutes)= 0.1261 loss= 0.000478063\n",
      "Epoch: 0472 training time (minutes)= 0.1260 loss= 0.000470176\n",
      "Epoch: 0473 training time (minutes)= 0.1263 loss= 0.000474165\n",
      "Epoch: 0474 training time (minutes)= 0.1262 loss= 0.000472256\n",
      "Epoch: 0475 training time (minutes)= 0.1264 loss= 0.000473025\n",
      "Epoch: 0476 training time (minutes)= 0.1264 loss= 0.000471248\n",
      "Epoch: 0477 training time (minutes)= 0.1263 loss= 0.000476529\n",
      "Epoch: 0478 training time (minutes)= 0.1263 loss= 0.000471437\n",
      "Epoch: 0479 training time (minutes)= 0.1264 loss= 0.000471397\n",
      "Epoch: 0480 training time (minutes)= 0.1261 loss= 0.000468830\n",
      "INFO:tensorflow:../data/single_class_ae/models.ckpt-480 is not in all_model_checkpoint_paths. Manually adding it.\n",
      "Epoch: 0481 training time (minutes)= 0.1264 loss= 0.000472251\n",
      "Epoch: 0482 training time (minutes)= 0.1265 loss= 0.000470781\n",
      "Epoch: 0483 training time (minutes)= 0.1265 loss= 0.000474178\n",
      "Epoch: 0484 training time (minutes)= 0.1263 loss= 0.000463618\n",
      "Epoch: 0485 training time (minutes)= 0.1263 loss= 0.000477496\n",
      "Epoch: 0486 training time (minutes)= 0.1263 loss= 0.000469264\n",
      "Epoch: 0487 training time (minutes)= 0.1264 loss= 0.000474322\n",
      "Epoch: 0488 training time (minutes)= 0.1264 loss= 0.000473126\n",
      "Epoch: 0489 training time (minutes)= 0.1264 loss= 0.000473446\n",
      "Epoch: 0490 training time (minutes)= 0.1265 loss= 0.000471118\n",
      "INFO:tensorflow:../data/single_class_ae/models.ckpt-490 is not in all_model_checkpoint_paths. Manually adding it.\n",
      "Epoch: 0491 training time (minutes)= 0.1261 loss= 0.000471435\n",
      "Epoch: 0492 training time (minutes)= 0.1261 loss= 0.000469796\n",
      "Epoch: 0493 training time (minutes)= 0.1262 loss= 0.000466512\n",
      "Epoch: 0494 training time (minutes)= 0.1262 loss= 0.000464908\n",
      "Epoch: 0495 training time (minutes)= 0.1264 loss= 0.000463566\n",
      "Epoch: 0496 training time (minutes)= 0.1263 loss= 0.000471733\n",
      "Epoch: 0497 training time (minutes)= 0.1264 loss= 0.000468376\n",
      "Epoch: 0498 training time (minutes)= 0.1263 loss= 0.000467919\n",
      "Epoch: 0499 training time (minutes)= 0.1266 loss= 0.000468361\n",
      "Epoch: 0500 training time (minutes)= 0.1262 loss= 0.000465970\n",
      "INFO:tensorflow:../data/single_class_ae/models.ckpt-500 is not in all_model_checkpoint_paths. Manually adding it.\n"
     ]
    }
   ],
   "source": [
    "buf_size = 1 # Make 'training_stats' file to flush each output line regarding training.\n",
    "fout = open(osp.join(conf.train_dir, 'train_stats.txt'), 'a', buf_size)\n",
    "train_stats = ae.train(all_pc_data, conf, log_file=fout)\n",
    "fout.close()"
   ]
  },
  {
   "cell_type": "markdown",
   "metadata": {},
   "source": [
    "Get a batch of reconstuctions and their latent-codes."
   ]
  },
  {
   "cell_type": "code",
   "execution_count": 25,
   "metadata": {},
   "outputs": [],
   "source": [
    "feed_pc, feed_model_names, _ = all_pc_data.next_batch(10)\n",
    "reconstructions = ae.reconstruct(feed_pc)[0]\n",
    "latent_codes = ae.transform(feed_pc)"
   ]
  },
  {
   "cell_type": "code",
   "execution_count": 28,
   "metadata": {},
   "outputs": [
    {
     "data": {
      "text/plain": [
       "(10, 128)"
      ]
     },
     "execution_count": 28,
     "metadata": {},
     "output_type": "execute_result"
    }
   ],
   "source": [
    "latent_codes[0]\n",
    "latent_codes.shape"
   ]
  },
  {
   "cell_type": "markdown",
   "metadata": {
    "collapsed": true
   },
   "source": [
    "Use any plotting mechanism such as matplotlib to visualize the results."
   ]
  },
  {
   "cell_type": "code",
   "execution_count": 30,
   "metadata": {},
   "outputs": [
    {
     "data": {
      "image/png": "[encoded data removed]",
      "text/plain": [
       "<matplotlib.figure.Figure at 0x7f88086f0eb8>"
      ]
     },
     "metadata": {
      "needs_background": "light"
     },
     "output_type": "display_data"
    },
    {
     "data": {
      "image/png": "[encoded data removed]",
      "text/plain": [
       "<matplotlib.figure.Figure at 0x7f877ff749b0>"
      ]
     },
     "metadata": {
      "needs_background": "light"
     },
     "output_type": "display_data"
    }
   ],
   "source": [
    "i = 0\n",
    "plot_3d_point_cloud(feed_pc[i][:, 0], \n",
    "                    feed_pc[i][:, 1], \n",
    "                    feed_pc[i][:, 2], in_u_sphere=True);\n",
    "\n",
    "\n",
    "plot_3d_point_cloud(reconstructions[i][:, 0], \n",
    "                    reconstructions[i][:, 1], \n",
    "                    reconstructions[i][:, 2], in_u_sphere=True);"
   ]
  },
  {
   "cell_type": "code",
   "execution_count": null,
   "metadata": {},
   "outputs": [],
   "source": []
  }
 ],
 "metadata": {
  "kernelspec": {
   "display_name": "Python 3",
   "language": "python",
   "name": "python3"
  },
  "language_info": {
   "codemirror_mode": {
    "name": "ipython",
    "version": 3
   },
   "file_extension": ".py",
   "mimetype": "text/x-python",
   "name": "python",
   "nbconvert_exporter": "python",
   "pygments_lexer": "ipython3",
   "version": "3.5.2"
  }
 },
 "nbformat": 4,
 "nbformat_minor": 2
}
